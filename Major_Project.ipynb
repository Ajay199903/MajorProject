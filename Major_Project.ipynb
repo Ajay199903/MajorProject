{
  "nbformat": 4,
  "nbformat_minor": 0,
  "metadata": {
    "colab": {
      "name": "Major Project.ipynb",
      "provenance": [],
      "include_colab_link": true
    },
    "kernelspec": {
      "name": "python3",
      "display_name": "Python 3"
    },
    "language_info": {
      "name": "python"
    },
    "accelerator": "GPU"
  },
  "cells": [
    {
      "cell_type": "markdown",
      "metadata": {
        "id": "view-in-github",
        "colab_type": "text"
      },
      "source": [
        "<a href=\"https://colab.research.google.com/github/Ajay199903/MajorProject/blob/main/Major_Project.ipynb\" target=\"_parent\"><img src=\"https://colab.research.google.com/assets/colab-badge.svg\" alt=\"Open In Colab\"/></a>"
      ]
    },
    {
      "cell_type": "markdown",
      "source": [
        "Repository link\n",
        "https://github.com/Ajay199903/MajorProject.git"
      ],
      "metadata": {
        "id": "6yPUKdEGzUJO"
      }
    },
    {
      "cell_type": "code",
      "metadata": {
        "colab": {
          "base_uri": "https://localhost:8080/"
        },
        "id": "eE1HZm4xG3Fw",
        "outputId": "041b0d9b-4356-426b-e1b6-254bc004fb1e"
      },
      "source": [
        "!git clone https://github.com/Ajay199903/MajorProject.git"
      ],
      "execution_count": 1,
      "outputs": [
        {
          "output_type": "stream",
          "name": "stdout",
          "text": [
            "Cloning into 'MajorProject'...\n",
            "remote: Enumerating objects: 47, done.\u001b[K\n",
            "remote: Total 47 (delta 0), reused 0 (delta 0), pack-reused 47\u001b[K\n",
            "Unpacking objects: 100% (47/47), done.\n"
          ]
        }
      ]
    },
    {
      "cell_type": "code",
      "metadata": {
        "colab": {
          "base_uri": "https://localhost:8080/"
        },
        "id": "_JvK76DhHc6N",
        "outputId": "88cf3955-ab4a-4078-e705-6651d6a39703"
      },
      "source": [
        "!ls"
      ],
      "execution_count": 2,
      "outputs": [
        {
          "output_type": "stream",
          "name": "stdout",
          "text": [
            "MajorProject  sample_data\n"
          ]
        }
      ]
    },
    {
      "cell_type": "code",
      "metadata": {
        "colab": {
          "base_uri": "https://localhost:8080/"
        },
        "id": "tpHtYihvHmC_",
        "outputId": "ebd36d37-3418-4a38-afa3-63064725f97e"
      },
      "source": [
        "!pwd"
      ],
      "execution_count": 3,
      "outputs": [
        {
          "output_type": "stream",
          "name": "stdout",
          "text": [
            "/content\n"
          ]
        }
      ]
    },
    {
      "cell_type": "markdown",
      "source": [
        "Link Prediction Using ACO on USAir dataset"
      ],
      "metadata": {
        "id": "17Ebbj5K-Jks"
      }
    },
    {
      "cell_type": "code",
      "metadata": {
        "colab": {
          "base_uri": "https://localhost:8080/"
        },
        "id": "05GgonoPHp9J",
        "outputId": "8b2f2c08-4920-47ac-887f-6b0925ca4446"
      },
      "source": [
        "!python3 \"/content/MajorProject/aco.py\""
      ],
      "execution_count": 4,
      "outputs": [
        {
          "output_type": "stream",
          "name": "stdout",
          "text": [
            "Graph created!\n",
            "0.4 0.9 0.8 0.8 0.01\n",
            "Pheromone Matrix and Heuristic Matrix initialized!\n",
            "Time: 1\n",
            "100% 100/100 [00:55<00:00,  1.81it/s]\n",
            "Precision Score: 0.5121951219512195\n",
            "AUC Score: 0.8067408045394672\n",
            "Time: 2\n",
            "100% 100/100 [00:55<00:00,  1.81it/s]\n",
            "Precision Score: 0.6097560975609756\n",
            "AUC Score: 0.8558795217347249\n",
            "Time: 3\n",
            "100% 100/100 [00:55<00:00,  1.81it/s]\n",
            "Precision Score: 0.5365853658536586\n",
            "AUC Score: 0.8821273596393456\n",
            "Time: 4\n",
            "100% 100/100 [00:54<00:00,  1.83it/s]\n",
            "Precision Score: 0.6097560975609756\n",
            "AUC Score: 0.8923805803392867\n",
            "Time: 5\n",
            "100% 100/100 [00:55<00:00,  1.80it/s]\n",
            "Precision Score: 0.5365853658536586\n",
            "AUC Score: 0.8938964914058375\n",
            "Time: 6\n",
            "100% 100/100 [00:55<00:00,  1.81it/s]\n",
            "Precision Score: 0.5853658536585366\n",
            "AUC Score: 0.9048398938373392\n",
            "Time: 7\n",
            "100% 100/100 [00:55<00:00,  1.80it/s]\n",
            "Precision Score: 0.6585365853658537\n",
            "AUC Score: 0.9070575859549572\n",
            "Time: 8\n",
            "100% 100/100 [00:55<00:00,  1.81it/s]\n",
            "Precision Score: 0.6585365853658537\n",
            "AUC Score: 0.90722455393728\n",
            "Time: 9\n",
            "100% 100/100 [00:55<00:00,  1.81it/s]\n",
            "Precision Score: 0.7560975609756098\n",
            "AUC Score: 0.90683786551189\n",
            "Time: 10\n",
            "100% 100/100 [00:54<00:00,  1.82it/s]\n",
            "Precision Score: 0.6585365853658537\n",
            "AUC Score: 0.9083577763437879\n",
            "Time: 11\n",
            "100% 100/100 [00:55<00:00,  1.80it/s]\n",
            "Precision Score: 0.6585365853658537\n",
            "AUC Score: 0.9102076678168214\n",
            "Time: 12\n",
            "100% 100/100 [00:55<00:00,  1.80it/s]\n",
            "Precision Score: 0.7560975609756098\n",
            "AUC Score: 0.9152709707697149\n",
            "Time: 13\n",
            "100% 100/100 [00:55<00:00,  1.81it/s]\n",
            "Precision Score: 0.7073170731707317\n",
            "AUC Score: 0.9181683119034795\n",
            "Time: 14\n",
            "100% 100/100 [00:55<00:00,  1.81it/s]\n",
            "Precision Score: 0.6341463414634146\n",
            "AUC Score: 0.9190967018823785\n",
            "Time: 15\n",
            "100% 100/100 [00:54<00:00,  1.82it/s]\n",
            "Precision Score: 0.6341463414634146\n",
            "AUC Score: 0.9180459635256953\n",
            "Time: 16\n",
            "100% 100/100 [00:55<00:00,  1.81it/s]\n",
            "Precision Score: 0.7073170731707317\n",
            "AUC Score: 0.9161142990722323\n",
            "Time: 17\n",
            "100% 100/100 [00:55<00:00,  1.81it/s]\n",
            "Precision Score: 0.7073170731707317\n",
            "AUC Score: 0.9172141456590102\n",
            "Time: 18\n",
            "100% 100/100 [00:55<00:00,  1.81it/s]\n",
            "Precision Score: 0.7073170731707317\n",
            "AUC Score: 0.9149490785429476\n",
            "Time: 19\n",
            "100% 100/100 [00:55<00:00,  1.82it/s]\n",
            "Precision Score: 0.7560975609756098\n",
            "AUC Score: 0.9158004063761592\n",
            "Time: 20\n",
            "100% 100/100 [00:55<00:00,  1.80it/s]\n",
            "Precision Score: 0.7804878048780488\n",
            "AUC Score: 0.916302776903755\n",
            "Time: 21\n",
            "100% 100/100 [00:54<00:00,  1.82it/s]\n",
            "Precision Score: 0.7804878048780488\n",
            "AUC Score: 0.9160986111037042\n",
            "Time: 22\n",
            "100% 100/100 [00:55<00:00,  1.82it/s]\n",
            "Precision Score: 0.8048780487804879\n",
            "AUC Score: 0.912895910106607\n",
            "Time: 23\n",
            "100% 100/100 [00:55<00:00,  1.80it/s]\n",
            "Precision Score: 0.7560975609756098\n",
            "AUC Score: 0.9126056604679191\n",
            "Time: 24\n",
            "100% 100/100 [00:54<00:00,  1.82it/s]\n",
            "Precision Score: 0.7804878048780488\n",
            "AUC Score: 0.9147553121327994\n",
            "Time: 25\n",
            "100% 100/100 [00:55<00:00,  1.81it/s]\n",
            "Precision Score: 0.7804878048780488\n",
            "AUC Score: 0.9155296667039979\n",
            "Time: 26\n",
            "100% 100/100 [00:54<00:00,  1.83it/s]\n",
            "Precision Score: 0.7073170731707317\n",
            "AUC Score: 0.9157288994601205\n",
            "Time: 27\n",
            "100% 100/100 [00:54<00:00,  1.82it/s]\n",
            "Precision Score: 0.6829268292682927\n",
            "AUC Score: 0.9166255579672659\n",
            "Time: 28\n",
            "100% 100/100 [00:55<00:00,  1.80it/s]\n",
            "Precision Score: 0.7073170731707317\n",
            "AUC Score: 0.9162398028204566\n",
            "Time: 29\n",
            "100% 100/100 [00:54<00:00,  1.82it/s]\n",
            "Precision Score: 0.6829268292682927\n",
            "AUC Score: 0.9161322091326197\n",
            "Time: 30\n",
            "100% 100/100 [00:55<00:00,  1.81it/s]\n",
            "Precision Score: 0.6341463414634146\n",
            "AUC Score: 0.9174027123742073\n",
            "Time: 31\n",
            "100% 100/100 [00:54<00:00,  1.82it/s]\n",
            "Precision Score: 0.7073170731707317\n",
            "AUC Score: 0.9187781427934006\n",
            "Time: 32\n",
            "100% 100/100 [00:55<00:00,  1.81it/s]\n",
            "Precision Score: 0.7073170731707317\n",
            "AUC Score: 0.9183389241164518\n",
            "Time: 33\n",
            "100% 100/100 [00:55<00:00,  1.82it/s]\n",
            "Precision Score: 0.7560975609756098\n",
            "AUC Score: 0.9194499256043644\n",
            "Time: 34\n",
            "100% 100/100 [00:55<00:00,  1.81it/s]\n",
            "Precision Score: 0.7317073170731707\n",
            "AUC Score: 0.9209228169725153\n",
            "Time: 35\n",
            "100% 100/100 [00:55<00:00,  1.81it/s]\n",
            "Precision Score: 0.6829268292682927\n",
            "AUC Score: 0.9198705231515306\n",
            "Time: 36\n",
            "100% 100/100 [00:55<00:00,  1.82it/s]\n",
            "Precision Score: 0.7804878048780488\n",
            "AUC Score: 0.9210967178814398\n",
            "Time: 37\n",
            "100% 100/100 [00:55<00:00,  1.80it/s]\n",
            "Precision Score: 0.7804878048780488\n",
            "AUC Score: 0.9175582588043724\n",
            "Time: 38\n",
            "100% 100/100 [00:55<00:00,  1.80it/s]\n",
            "Precision Score: 0.7073170731707317\n",
            "AUC Score: 0.91870903573657\n",
            "Time: 39\n",
            "100% 100/100 [00:55<00:00,  1.81it/s]\n",
            "Precision Score: 0.7073170731707317\n",
            "AUC Score: 0.9197806617567327\n",
            "Time: 40\n",
            "100% 100/100 [00:55<00:00,  1.81it/s]\n",
            "Precision Score: 0.7317073170731707\n",
            "AUC Score: 0.9201631726494269\n",
            "Time: 41\n",
            "100% 100/100 [00:54<00:00,  1.83it/s]\n",
            "Precision Score: 0.8048780487804879\n",
            "AUC Score: 0.9206860753058042\n",
            "Time: 42\n",
            "100% 100/100 [00:55<00:00,  1.81it/s]\n",
            "Precision Score: 0.7317073170731707\n",
            "AUC Score: 0.9205264402266177\n",
            "Time: 43\n",
            "100% 100/100 [00:55<00:00,  1.81it/s]\n",
            "Precision Score: 0.7560975609756098\n",
            "AUC Score: 0.9206244344776217\n",
            "Time: 44\n",
            "100% 100/100 [00:55<00:00,  1.80it/s]\n",
            "Precision Score: 0.7317073170731707\n",
            "AUC Score: 0.9211097837815736\n",
            "Time: 45\n",
            "100% 100/100 [00:55<00:00,  1.79it/s]\n",
            "Precision Score: 0.7560975609756098\n",
            "AUC Score: 0.9193510869584538\n",
            "Time: 46\n",
            "100% 100/100 [00:55<00:00,  1.79it/s]\n",
            "Precision Score: 0.7804878048780488\n",
            "AUC Score: 0.9196848895975879\n",
            "Time: 47\n",
            "100% 100/100 [00:55<00:00,  1.80it/s]\n",
            "Precision Score: 0.7804878048780488\n",
            "AUC Score: 0.9181428022889323\n",
            "Time: 48\n",
            "100% 100/100 [00:55<00:00,  1.79it/s]\n",
            "Precision Score: 0.7317073170731707\n",
            "AUC Score: 0.9153214566967627\n",
            "Time: 49\n",
            "100% 100/100 [00:55<00:00,  1.79it/s]\n",
            "Precision Score: 0.7073170731707317\n",
            "AUC Score: 0.9130961205831479\n",
            "Time: 50\n",
            "100% 100/100 [00:55<00:00,  1.79it/s]\n",
            "Precision Score: 0.7317073170731707\n",
            "AUC Score: 0.9145324363192915\n",
            "ACO Completed!\n"
          ]
        }
      ]
    },
    {
      "cell_type": "markdown",
      "source": [
        "Link Prediction Using GWO on USAir dataset"
      ],
      "metadata": {
        "id": "durQPjxq-myv"
      }
    },
    {
      "cell_type": "code",
      "metadata": {
        "id": "4CsRGmhQH0XZ",
        "colab": {
          "base_uri": "https://localhost:8080/"
        },
        "outputId": "a26dad7b-2aad-49e4-aba1-9dd58944a56d"
      },
      "source": [
        "!python3 \"/content/MajorProject/gwo.py\""
      ],
      "execution_count": 5,
      "outputs": [
        {
          "output_type": "stream",
          "name": "stdout",
          "text": [
            "0.4 0.9 0.8 0.8 0.01\n",
            "Graph created!\n",
            "GWO is starting!\n",
            "Time: 1\n",
            "100% 10/10 [00:09<00:00,  1.04it/s]\n",
            "Precision Score: 0.0\n",
            "AUC Score: 0.5420193126447693\n",
            "Time: 2\n",
            "100% 10/10 [00:09<00:00,  1.04it/s]\n",
            "Precision Score: 0.12195121951219512\n",
            "AUC Score: 0.5463024391457924\n",
            "Time: 3\n",
            "100% 10/10 [00:09<00:00,  1.07it/s]\n",
            "Precision Score: 0.12195121951219512\n",
            "AUC Score: 0.5473206016358151\n",
            "Time: 4\n",
            "100% 10/10 [00:09<00:00,  1.03it/s]\n",
            "Precision Score: 0.17073170731707318\n",
            "AUC Score: 0.5579368677037614\n",
            "Time: 5\n",
            "100% 10/10 [00:09<00:00,  1.04it/s]\n",
            "Precision Score: 0.1951219512195122\n",
            "AUC Score: 0.5599120407158336\n",
            "Time: 6\n",
            "100% 10/10 [00:09<00:00,  1.04it/s]\n",
            "Precision Score: 0.1951219512195122\n",
            "AUC Score: 0.5616169184741161\n",
            "Time: 7\n",
            "100% 10/10 [00:09<00:00,  1.06it/s]\n",
            "Precision Score: 0.24390243902439024\n",
            "AUC Score: 0.5461384487665613\n",
            "Time: 8\n",
            "100% 10/10 [00:09<00:00,  1.06it/s]\n",
            "Precision Score: 0.24390243902439024\n",
            "AUC Score: 0.581766047502991\n",
            "Time: 9\n",
            "100% 10/10 [00:09<00:00,  1.05it/s]\n",
            "Precision Score: 0.24390243902439024\n",
            "AUC Score: 0.581766047502991\n",
            "Time: 10\n",
            "100% 10/10 [00:09<00:00,  1.05it/s]\n",
            "Precision Score: 0.2926829268292683\n",
            "AUC Score: 0.5676210106784847\n",
            "Time: 11\n",
            "100% 10/10 [00:09<00:00,  1.06it/s]\n",
            "Precision Score: 0.2926829268292683\n",
            "AUC Score: 0.5676210106784847\n",
            "Time: 12\n",
            "100% 10/10 [00:09<00:00,  1.05it/s]\n",
            "Precision Score: 0.2926829268292683\n",
            "AUC Score: 0.5986963431478687\n",
            "Time: 13\n",
            "100% 10/10 [00:09<00:00,  1.05it/s]\n",
            "Precision Score: 0.2926829268292683\n",
            "AUC Score: 0.5986963431478687\n",
            "Time: 14\n",
            "100% 10/10 [00:09<00:00,  1.01it/s]\n",
            "Precision Score: 0.4146341463414634\n",
            "AUC Score: 0.6047710978733691\n",
            "Time: 15\n",
            "100% 10/10 [00:09<00:00,  1.06it/s]\n",
            "Precision Score: 0.4146341463414634\n",
            "AUC Score: 0.6047710978733691\n",
            "Time: 16\n",
            "100% 10/10 [00:09<00:00,  1.06it/s]\n",
            "Precision Score: 0.4146341463414634\n",
            "AUC Score: 0.6047710978733691\n",
            "Time: 17\n",
            "100% 10/10 [00:09<00:00,  1.07it/s]\n",
            "Precision Score: 0.4146341463414634\n",
            "AUC Score: 0.6047710978733691\n",
            "Time: 18\n",
            "100% 10/10 [00:09<00:00,  1.07it/s]\n",
            "Precision Score: 0.43902439024390244\n",
            "AUC Score: 0.6115394119100568\n",
            "Time: 19\n",
            "100% 10/10 [00:09<00:00,  1.05it/s]\n",
            "Precision Score: 0.43902439024390244\n",
            "AUC Score: 0.6115394119100568\n",
            "Time: 20\n",
            "100% 10/10 [00:09<00:00,  1.04it/s]\n",
            "Precision Score: 0.4146341463414634\n",
            "AUC Score: 0.6467261476215617\n",
            "Time: 21\n",
            "100% 10/10 [00:09<00:00,  1.04it/s]\n",
            "Precision Score: 0.43902439024390244\n",
            "AUC Score: 0.647191453656941\n",
            "Time: 22\n",
            "100% 10/10 [00:09<00:00,  1.05it/s]\n",
            "Precision Score: 0.43902439024390244\n",
            "AUC Score: 0.6749612911598075\n",
            "Time: 23\n",
            "100% 10/10 [00:09<00:00,  1.05it/s]\n",
            "Precision Score: 0.4634146341463415\n",
            "AUC Score: 0.6634699653175902\n",
            "Time: 24\n",
            "100% 10/10 [00:09<00:00,  1.05it/s]\n",
            "Precision Score: 0.4634146341463415\n",
            "AUC Score: 0.6634699653175902\n",
            "Time: 25\n",
            "100% 10/10 [00:09<00:00,  1.05it/s]\n",
            "Precision Score: 0.4634146341463415\n",
            "AUC Score: 0.6733728510149627\n",
            "Time: 26\n",
            "100% 10/10 [00:09<00:00,  1.04it/s]\n",
            "Precision Score: 0.4634146341463415\n",
            "AUC Score: 0.6913244200784665\n",
            "Time: 27\n",
            "100% 10/10 [00:09<00:00,  1.06it/s]\n",
            "Precision Score: 0.4634146341463415\n",
            "AUC Score: 0.6913244200784665\n",
            "Time: 28\n",
            "100% 10/10 [00:09<00:00,  1.06it/s]\n",
            "Precision Score: 0.5121951219512195\n",
            "AUC Score: 0.686932411076328\n",
            "Time: 29\n",
            "100% 10/10 [00:09<00:00,  1.04it/s]\n",
            "Precision Score: 0.5121951219512195\n",
            "AUC Score: 0.686932411076328\n",
            "Time: 30\n",
            "100% 10/10 [00:09<00:00,  1.05it/s]\n",
            "Precision Score: 0.5121951219512195\n",
            "AUC Score: 0.686932411076328\n",
            "Time: 31\n",
            "100% 10/10 [00:09<00:00,  1.04it/s]\n",
            "Precision Score: 0.5365853658536586\n",
            "AUC Score: 0.700759955415949\n",
            "Time: 32\n",
            "100% 10/10 [00:09<00:00,  1.05it/s]\n",
            "Precision Score: 0.5609756097560976\n",
            "AUC Score: 0.7058497901456449\n",
            "Time: 33\n",
            "100% 10/10 [00:09<00:00,  1.06it/s]\n",
            "Precision Score: 0.5609756097560976\n",
            "AUC Score: 0.7089122771464074\n",
            "Time: 34\n",
            "100% 10/10 [00:09<00:00,  1.06it/s]\n",
            "Precision Score: 0.5609756097560976\n",
            "AUC Score: 0.7102593981153106\n",
            "Time: 35\n",
            "100% 10/10 [00:09<00:00,  1.05it/s]\n",
            "Precision Score: 0.5609756097560976\n",
            "AUC Score: 0.7102593981153106\n",
            "Time: 36\n",
            "100% 10/10 [00:09<00:00,  1.06it/s]\n",
            "Precision Score: 0.5609756097560976\n",
            "AUC Score: 0.7102593981153106\n",
            "Time: 37\n",
            "100% 10/10 [00:09<00:00,  1.07it/s]\n",
            "Precision Score: 0.5609756097560976\n",
            "AUC Score: 0.7102593981153106\n",
            "Time: 38\n",
            "100% 10/10 [00:09<00:00,  1.06it/s]\n",
            "Precision Score: 0.6097560975609756\n",
            "AUC Score: 0.7052485809721385\n",
            "Time: 39\n",
            "100% 10/10 [00:09<00:00,  1.04it/s]\n",
            "Precision Score: 0.6097560975609756\n",
            "AUC Score: 0.7052485809721385\n",
            "Time: 40\n",
            "100% 10/10 [00:09<00:00,  1.06it/s]\n",
            "Precision Score: 0.6097560975609756\n",
            "AUC Score: 0.7052485809721385\n",
            "Time: 41\n",
            "100% 10/10 [00:09<00:00,  1.05it/s]\n",
            "Precision Score: 0.6097560975609756\n",
            "AUC Score: 0.7052485809721385\n",
            "Time: 42\n",
            "100% 10/10 [00:09<00:00,  1.05it/s]\n",
            "Precision Score: 0.6097560975609756\n",
            "AUC Score: 0.7052485809721385\n",
            "Time: 43\n",
            "100% 10/10 [00:09<00:00,  1.06it/s]\n",
            "Precision Score: 0.6097560975609756\n",
            "AUC Score: 0.7052485809721385\n",
            "Time: 44\n",
            "100% 10/10 [00:09<00:00,  1.05it/s]\n",
            "Precision Score: 0.6097560975609756\n",
            "AUC Score: 0.7052485809721385\n",
            "Time: 45\n",
            "100% 10/10 [00:09<00:00,  1.05it/s]\n",
            "Precision Score: 0.6097560975609756\n",
            "AUC Score: 0.7052485809721385\n",
            "Time: 46\n",
            "100% 10/10 [00:09<00:00,  1.04it/s]\n",
            "Precision Score: 0.6341463414634146\n",
            "AUC Score: 0.7261126013940515\n",
            "Time: 47\n",
            "100% 10/10 [00:09<00:00,  1.05it/s]\n",
            "Precision Score: 0.6585365853658537\n",
            "AUC Score: 0.7262775694937008\n",
            "Time: 48\n",
            "100% 10/10 [00:09<00:00,  1.04it/s]\n",
            "Precision Score: 0.6829268292682927\n",
            "AUC Score: 0.7259764316049014\n",
            "Time: 49\n",
            "100% 10/10 [00:09<00:00,  1.03it/s]\n",
            "Precision Score: 0.6829268292682927\n",
            "AUC Score: 0.7305236315025074\n",
            "Time: 50\n",
            "100% 10/10 [00:09<00:00,  1.04it/s]\n",
            "Precision Score: 0.6829268292682927\n",
            "AUC Score: 0.7305236315025074\n",
            "GWO Completed!\n"
          ]
        }
      ]
    },
    {
      "cell_type": "markdown",
      "source": [
        "Link Prediction Using Traditional Approaches on USAir dataset"
      ],
      "metadata": {
        "id": "HIukOgMdBeM5"
      }
    },
    {
      "cell_type": "code",
      "source": [
        "!python3 \"/content/MajorProject/traditional_methods.py\""
      ],
      "metadata": {
        "colab": {
          "base_uri": "https://localhost:8080/"
        },
        "id": "DjA_WTu1AeT0",
        "outputId": "1d05e93e-61b1-42ec-9f99-d19a8a556fa2"
      },
      "execution_count": 7,
      "outputs": [
        {
          "output_type": "stream",
          "name": "stdout",
          "text": [
            "Jaccard Coefficient\n",
            "0.9136091696474701\n",
            "0.06103286384976526\n",
            "-------------------------------\n",
            "Resource Allocation Index\n",
            "0.9628478086988032\n",
            "0.48826291079812206\n",
            "-------------------------------\n",
            "Adamic Adar Index\n",
            "0.9574895675883285\n",
            "0.40375586854460094\n",
            "-------------------------------\n",
            "Preferential Attachment Index\n",
            "0.8968410336594301\n",
            "0.3615023474178404\n",
            "-------------------------------\n"
          ]
        }
      ]
    }
  ]
}