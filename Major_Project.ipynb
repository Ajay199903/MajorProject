{
  "nbformat": 4,
  "nbformat_minor": 0,
  "metadata": {
    "colab": {
      "name": "Major Project.ipynb",
      "provenance": [],
      "authorship_tag": "ABX9TyNvZzpQyzCK+nKV18fdkKUz",
      "include_colab_link": true
    },
    "kernelspec": {
      "name": "python3",
      "display_name": "Python 3"
    },
    "language_info": {
      "name": "python"
    },
    "accelerator": "GPU"
  },
  "cells": [
    {
      "cell_type": "markdown",
      "metadata": {
        "id": "view-in-github",
        "colab_type": "text"
      },
      "source": [
        "<a href=\"https://colab.research.google.com/github/Ajay199903/MajorProject/blob/main/Major_Project.ipynb\" target=\"_parent\"><img src=\"https://colab.research.google.com/assets/colab-badge.svg\" alt=\"Open In Colab\"/></a>"
      ]
    },
    {
      "cell_type": "code",
      "metadata": {
        "colab": {
          "base_uri": "https://localhost:8080/"
        },
        "id": "eE1HZm4xG3Fw",
        "outputId": "6f6d7522-fe5f-4937-990f-3ec1013e17e6"
      },
      "source": [
        "!git clone https://github.com/Ajay199903/MajorProject.git"
      ],
      "execution_count": 3,
      "outputs": [
        {
          "output_type": "stream",
          "name": "stdout",
          "text": [
            "Cloning into 'MajorProject'...\n",
            "remote: Enumerating objects: 18, done.\u001b[K\n",
            "remote: Counting objects: 100% (18/18), done.\u001b[K\n",
            "remote: Compressing objects: 100% (17/17), done.\u001b[K\n",
            "remote: Total 18 (delta 3), reused 13 (delta 1), pack-reused 0\u001b[K\n",
            "Unpacking objects: 100% (18/18), done.\n"
          ]
        }
      ]
    },
    {
      "cell_type": "code",
      "metadata": {
        "colab": {
          "base_uri": "https://localhost:8080/"
        },
        "id": "_JvK76DhHc6N",
        "outputId": "c219a58a-92c4-4cbc-ccea-8ed2b0d57a03"
      },
      "source": [
        "!ls"
      ],
      "execution_count": 4,
      "outputs": [
        {
          "output_type": "stream",
          "name": "stdout",
          "text": [
            "MajorProject  sample_data\n"
          ]
        }
      ]
    },
    {
      "cell_type": "code",
      "metadata": {
        "colab": {
          "base_uri": "https://localhost:8080/"
        },
        "id": "tpHtYihvHmC_",
        "outputId": "f6140fe3-6d94-4eb3-a049-b09efe609f85"
      },
      "source": [
        "!pwd"
      ],
      "execution_count": 5,
      "outputs": [
        {
          "output_type": "stream",
          "name": "stdout",
          "text": [
            "/content\n"
          ]
        }
      ]
    },
    {
      "cell_type": "code",
      "metadata": {
        "colab": {
          "base_uri": "https://localhost:8080/"
        },
        "id": "05GgonoPHp9J",
        "outputId": "dc5c7a5a-611f-4640-fd8d-80f368282066"
      },
      "source": [
        "!python3 \"/content/MajorProject/aco.py\""
      ],
      "execution_count": 6,
      "outputs": [
        {
          "output_type": "stream",
          "name": "stdout",
          "text": [
            "Graph created!\n",
            "0.4 0.9 0.8 0.8 0.01\n",
            "Pheromone Matrix and Heuristic Matrix initialized!\n",
            "Time: 1\n",
            " 42% 42/100 [00:23<00:31,  1.83it/s]Exception ignored in: <generator object tqdm.__iter__ at 0x7f0f4db01950>\n",
            "Traceback (most recent call last):\n",
            "  File \"/usr/local/lib/python3.7/dist-packages/tqdm/std.py\", line 1195, in __iter__\n",
            "    self.close()\n",
            "  File \"/usr/local/lib/python3.7/dist-packages/tqdm/std.py\", line 1274, in close\n",
            "    self._decr_instances(self)\n",
            "  File \"/usr/local/lib/python3.7/dist-packages/tqdm/std.py\", line 595, in _decr_instances\n",
            "    cls._instances.remove(instance)\n",
            "  File \"/usr/lib/python3.7/_weakrefset.py\", line 107, in remove\n",
            "    if self._pending_removals:\n",
            "KeyboardInterrupt: \n",
            "Traceback (most recent call last):\n",
            "  File \"/content/MajorProject/aco.py\", line 178, in <module>\n",
            "    aco(G, GComplete, max_iterations, num_ants, alpha, beta, gamma, rho, eps)\n",
            "  File \"/content/MajorProject/aco.py\", line 120, in aco\n",
            "    nextNode = G.randomNextNode(curNode)\n",
            "  File \"/content/MajorProject/graph_util.py\", line 69, in randomNextNode\n",
            "    probability[i] = self.getProb(a, i)\n",
            "  File \"/content/MajorProject/graph_util.py\", line 61, in getProb\n",
            "    etaVal = self.eta(a, b)\n",
            "  File \"/content/MajorProject/graph_util.py\", line 52, in eta\n",
            "    return self.gamma * len(self.getCommonNeigbours(a, b))\n",
            "KeyboardInterrupt\n"
          ]
        }
      ]
    },
    {
      "cell_type": "code",
      "metadata": {
        "id": "4CsRGmhQH0XZ"
      },
      "source": [
        ""
      ],
      "execution_count": null,
      "outputs": []
    }
  ]
}